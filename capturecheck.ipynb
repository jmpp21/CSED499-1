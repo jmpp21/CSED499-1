{
 "cells": [
  {
   "cell_type": "code",
   "execution_count": 1,
   "metadata": {},
   "outputs": [],
   "source": [
    "import mitsuba as mi\n",
    "import drjit as dr\n",
    "import os\n",
    "import matplotlib.pyplot as plt\n",
    "from PIL import Image\n",
    "import numpy as np\n",
    "import random \n",
    "import imageio\n",
    "import cv2\n",
    "import numpy as np"
   ]
  },
  {
   "cell_type": "code",
   "execution_count": null,
   "metadata": {},
   "outputs": [],
   "source": []
  },
  {
   "cell_type": "code",
   "execution_count": 8,
   "metadata": {},
   "outputs": [],
   "source": [
    "scene_path = os.path.join('', 'scenes') \n",
    "results_spatio_path = os.path.join('','results_spatio') \n",
    "mi.set_variant('scalar_rgb')\n",
    "texture_path = os.path.join(scene_path,'textures')\n",
    "che = os.path.join(scene_path,'110935.png')\n"
   ]
  },
  {
   "cell_type": "code",
   "execution_count": 9,
   "metadata": {},
   "outputs": [],
   "source": [
    "cam1 = mi.load_dict({\n",
    "'type': 'perspective',\n",
    "'fov': 45, #24.6 mm\n",
    "'to_world': mi.ScalarTransform4f.look_at(\n",
    "    origin=[0.03, 0, -0.7],  # increase the z-coordinate to move the camera farther away\n",
    "    target=[0.03, 1, -15],\n",
    "    up=[0, 0, 1]\n",
    "),\n",
    "'film2': {\n",
    "    'type': 'hdrfilm',\n",
    "    'width': 512,\n",
    "    'height': 512,\n",
    "}\n",
    "# 'distortion': [0, 0, 0, 0, 0]\n",
    "})"
   ]
  },
  {
   "cell_type": "code",
   "execution_count": 11,
   "metadata": {},
   "outputs": [],
   "source": [
    "import cgi, os\n",
    "files = os.listdir('dir/graycode_pattern/')\n",
    "\n",
    "for f in files:\n",
    "    s = \"dir/graycode_pattern/\"\n",
    "    s = s + f\n",
    "    scene1 = mi.load_dict({\n",
    "        'type':'scene',\n",
    "        'integrator': {'type': 'direct'},\n",
    "        'light': {\n",
    "            'type': 'projector',\n",
    "            'irradiance': {\n",
    "                'type': 'bitmap',\n",
    "                'filename': s, \n",
    "            },\n",
    "            'fov': 45,\n",
    "            'to_world': mi.ScalarTransform4f.look_at(\n",
    "                origin=[-0.03, 0.1, -0.7],\n",
    "                target=[-0.03, -0.1, -15],\n",
    "                up=[0, 0, 1]\n",
    "            )\n",
    "            },\n",
    "        'rectangle' : {\n",
    "        'type': 'rectangle',\n",
    "        'to_world': mi.ScalarTransform4f.translate([0, 0.05, -1.0]) @ mi.ScalarTransform4f.scale([0.08, 0.08, 0.08]) @ mi.ScalarTransform4f.rotate([1, 1, 0], -10), # Modify rotation and translation here\n",
    "        'bsdf': {\n",
    "            'type': 'diffuse',\n",
    "            'reflectance': {\n",
    "                'type': 'bitmap',\n",
    "                'filename': che\n",
    "            }\n",
    "        }\n",
    "        },\n",
    "    })\n",
    "\n",
    "    image = mi.render(scene=scene1, sensor=cam1, spp=64)\n",
    "    image = np.clip(image * 1000, 0, 1000).astype(np.uint8)\n",
    "    st = \"./results/checkersmdia10_\" + f\n",
    "    # Save the image as a PNG file using imageio\n",
    "    imageio.imwrite(st, image)\n"
   ]
  },
  {
   "cell_type": "code",
   "execution_count": null,
   "metadata": {},
   "outputs": [],
   "source": []
  }
 ],
 "metadata": {
  "kernelspec": {
   "display_name": "main",
   "language": "python",
   "name": "python3"
  },
  "language_info": {
   "codemirror_mode": {
    "name": "ipython",
    "version": 3
   },
   "file_extension": ".py",
   "mimetype": "text/x-python",
   "name": "python",
   "nbconvert_exporter": "python",
   "pygments_lexer": "ipython3",
   "version": "3.11.8"
  },
  "orig_nbformat": 4
 },
 "nbformat": 4,
 "nbformat_minor": 2
}
