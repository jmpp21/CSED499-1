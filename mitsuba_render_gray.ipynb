{
 "cells": [
  {
   "cell_type": "code",
   "execution_count": 1,
   "metadata": {},
   "outputs": [],
   "source": [
    "import mitsuba as mi\n",
    "import drjit as dr\n",
    "import os\n",
    "import matplotlib.pyplot as plt\n",
    "from PIL import Image\n",
    "import numpy as np\n",
    "import random \n",
    "import imageio\n",
    "import cv2\n",
    "import numpy as np"
   ]
  },
  {
   "cell_type": "code",
   "execution_count": 4,
   "metadata": {},
   "outputs": [],
   "source": [
    "scene_path = os.path.join('', 'scenes') \n",
    "results_spatio_path = os.path.join('','results_spatio') \n",
    "\n",
    "mi.set_variant('scalar_spectral')\n",
    "texture_path = os.path.join(scene_path,'textures')\n",
    "\n",
    "tokki = os.path.join(scene_path,'meshes/bunny.ply')\n"
   ]
  },
  {
   "cell_type": "code",
   "execution_count": 5,
   "metadata": {},
   "outputs": [
    {
     "data": {
      "text/html": [
       "<span style=\"font-family: monospace; color: #f55\">2024-05-27 18:55:17 WARN  wrk2  [Mesh] &quot;bunny.ply&quot;: computed vertex normals (1113 invalid vertices!)</span>"
      ]
     },
     "metadata": {},
     "output_type": "display_data"
    },
    {
     "data": {
      "text/html": [
       "<span style=\"font-family: monospace; color: #f55\">2024-05-27 18:55:21 WARN  wrk5  [Mesh] &quot;bunny.ply&quot;: computed vertex normals (1113 invalid vertices!)</span>"
      ]
     },
     "metadata": {},
     "output_type": "display_data"
    },
    {
     "data": {
      "text/html": [
       "<span style=\"font-family: monospace; color: #f55\">2024-05-27 18:55:25 WARN  wrk1  [Mesh] &quot;bunny.ply&quot;: computed vertex normals (1113 invalid vertices!)</span>"
      ]
     },
     "metadata": {},
     "output_type": "display_data"
    },
    {
     "data": {
      "text/html": [
       "<span style=\"font-family: monospace; color: #f55\">2024-05-27 18:55:28 WARN  main  [Mesh] &quot;bunny.ply&quot;: computed vertex normals (1113 invalid vertices!)</span>"
      ]
     },
     "metadata": {},
     "output_type": "display_data"
    },
    {
     "data": {
      "text/html": [
       "<span style=\"font-family: monospace; color: #f55\">2024-05-27 18:55:31 WARN  wrk12 [Mesh] &quot;bunny.ply&quot;: computed vertex normals (1113 invalid vertices!)</span>"
      ]
     },
     "metadata": {},
     "output_type": "display_data"
    },
    {
     "data": {
      "text/html": [
       "<span style=\"font-family: monospace; color: #f55\">2024-05-27 18:55:35 WARN  wrk10 [Mesh] &quot;bunny.ply&quot;: computed vertex normals (1113 invalid vertices!)</span>"
      ]
     },
     "metadata": {},
     "output_type": "display_data"
    },
    {
     "data": {
      "text/html": [
       "<span style=\"font-family: monospace; color: #f55\">2024-05-27 18:55:38 WARN  wrk9  [Mesh] &quot;bunny.ply&quot;: computed vertex normals (1113 invalid vertices!)</span>"
      ]
     },
     "metadata": {},
     "output_type": "display_data"
    },
    {
     "data": {
      "text/html": [
       "<span style=\"font-family: monospace; color: #f55\">2024-05-27 18:55:41 WARN  wrk4  [Mesh] &quot;bunny.ply&quot;: computed vertex normals (1113 invalid vertices!)</span>"
      ]
     },
     "metadata": {},
     "output_type": "display_data"
    },
    {
     "data": {
      "text/html": [
       "<span style=\"font-family: monospace; color: #f55\">2024-05-27 18:55:45 WARN  main  [Mesh] &quot;bunny.ply&quot;: computed vertex normals (1113 invalid vertices!)</span>"
      ]
     },
     "metadata": {},
     "output_type": "display_data"
    },
    {
     "data": {
      "text/html": [
       "<span style=\"font-family: monospace; color: #f55\">2024-05-27 18:55:48 WARN  wrk3  [Mesh] &quot;bunny.ply&quot;: computed vertex normals (1113 invalid vertices!)</span>"
      ]
     },
     "metadata": {},
     "output_type": "display_data"
    },
    {
     "data": {
      "text/html": [
       "<span style=\"font-family: monospace; color: #f55\">2024-05-27 18:55:51 WARN  wrk6  [Mesh] &quot;bunny.ply&quot;: computed vertex normals (1113 invalid vertices!)</span>"
      ]
     },
     "metadata": {},
     "output_type": "display_data"
    },
    {
     "data": {
      "text/html": [
       "<span style=\"font-family: monospace; color: #f55\">2024-05-27 18:55:55 WARN  main  [Mesh] &quot;bunny.ply&quot;: computed vertex normals (1113 invalid vertices!)</span>"
      ]
     },
     "metadata": {},
     "output_type": "display_data"
    },
    {
     "data": {
      "text/html": [
       "<span style=\"font-family: monospace; color: #f55\">2024-05-27 18:55:58 WARN  main  [Mesh] &quot;bunny.ply&quot;: computed vertex normals (1113 invalid vertices!)</span>"
      ]
     },
     "metadata": {},
     "output_type": "display_data"
    },
    {
     "data": {
      "text/html": [
       "<span style=\"font-family: monospace; color: #f55\">2024-05-27 18:56:01 WARN  wrk1  [Mesh] &quot;bunny.ply&quot;: computed vertex normals (1113 invalid vertices!)</span>"
      ]
     },
     "metadata": {},
     "output_type": "display_data"
    },
    {
     "data": {
      "text/html": [
       "<span style=\"font-family: monospace; color: #f55\">2024-05-27 18:56:04 WARN  wrk11 [Mesh] &quot;bunny.ply&quot;: computed vertex normals (1113 invalid vertices!)</span>"
      ]
     },
     "metadata": {},
     "output_type": "display_data"
    },
    {
     "data": {
      "text/html": [
       "<span style=\"font-family: monospace; color: #f55\">2024-05-27 18:56:08 WARN  wrk2  [Mesh] &quot;bunny.ply&quot;: computed vertex normals (1113 invalid vertices!)</span>"
      ]
     },
     "metadata": {},
     "output_type": "display_data"
    },
    {
     "data": {
      "text/html": [
       "<span style=\"font-family: monospace; color: #f55\">2024-05-27 18:56:11 WARN  wrk6  [Mesh] &quot;bunny.ply&quot;: computed vertex normals (1113 invalid vertices!)</span>"
      ]
     },
     "metadata": {},
     "output_type": "display_data"
    },
    {
     "data": {
      "text/html": [
       "<span style=\"font-family: monospace; color: #f55\">2024-05-27 18:56:14 WARN  wrk10 [Mesh] &quot;bunny.ply&quot;: computed vertex normals (1113 invalid vertices!)</span>"
      ]
     },
     "metadata": {},
     "output_type": "display_data"
    },
    {
     "data": {
      "text/html": [
       "<span style=\"font-family: monospace; color: #f55\">2024-05-27 18:56:18 WARN  wrk8  [Mesh] &quot;bunny.ply&quot;: computed vertex normals (1113 invalid vertices!)</span>"
      ]
     },
     "metadata": {},
     "output_type": "display_data"
    },
    {
     "data": {
      "text/html": [
       "<span style=\"font-family: monospace; color: #f55\">2024-05-27 18:56:21 WARN  main  [Mesh] &quot;bunny.ply&quot;: computed vertex normals (1113 invalid vertices!)</span>"
      ]
     },
     "metadata": {},
     "output_type": "display_data"
    },
    {
     "data": {
      "text/html": [
       "<span style=\"font-family: monospace; color: #f55\">2024-05-27 18:56:24 WARN  wrk11 [Mesh] &quot;bunny.ply&quot;: computed vertex normals (1113 invalid vertices!)</span>"
      ]
     },
     "metadata": {},
     "output_type": "display_data"
    },
    {
     "data": {
      "text/html": [
       "<span style=\"font-family: monospace; color: #f55\">2024-05-27 18:56:28 WARN  wrk9  [Mesh] &quot;bunny.ply&quot;: computed vertex normals (1113 invalid vertices!)</span>"
      ]
     },
     "metadata": {},
     "output_type": "display_data"
    },
    {
     "data": {
      "text/html": [
       "<span style=\"font-family: monospace; color: #f55\">2024-05-27 18:56:31 WARN  wrk9  [Mesh] &quot;bunny.ply&quot;: computed vertex normals (1113 invalid vertices!)</span>"
      ]
     },
     "metadata": {},
     "output_type": "display_data"
    },
    {
     "data": {
      "text/html": [
       "<span style=\"font-family: monospace; color: #f55\">2024-05-27 18:56:35 WARN  wrk12 [Mesh] &quot;bunny.ply&quot;: computed vertex normals (1113 invalid vertices!)</span>"
      ]
     },
     "metadata": {},
     "output_type": "display_data"
    },
    {
     "data": {
      "text/html": [
       "<span style=\"font-family: monospace; color: #f55\">2024-05-27 18:56:38 WARN  main  [Mesh] &quot;bunny.ply&quot;: computed vertex normals (1113 invalid vertices!)</span>"
      ]
     },
     "metadata": {},
     "output_type": "display_data"
    },
    {
     "data": {
      "text/html": [
       "<span style=\"font-family: monospace; color: #f55\">2024-05-27 18:56:41 WARN  wrk8  [Mesh] &quot;bunny.ply&quot;: computed vertex normals (1113 invalid vertices!)</span>"
      ]
     },
     "metadata": {},
     "output_type": "display_data"
    },
    {
     "data": {
      "text/html": [
       "<span style=\"font-family: monospace; color: #f55\">2024-05-27 18:56:45 WARN  wrk2  [Mesh] &quot;bunny.ply&quot;: computed vertex normals (1113 invalid vertices!)</span>"
      ]
     },
     "metadata": {},
     "output_type": "display_data"
    },
    {
     "data": {
      "text/html": [
       "<span style=\"font-family: monospace; color: #f55\">2024-05-27 18:56:48 WARN  wrk3  [Mesh] &quot;bunny.ply&quot;: computed vertex normals (1113 invalid vertices!)</span>"
      ]
     },
     "metadata": {},
     "output_type": "display_data"
    },
    {
     "data": {
      "text/html": [
       "<span style=\"font-family: monospace; color: #f55\">2024-05-27 18:56:51 WARN  wrk8  [Mesh] &quot;bunny.ply&quot;: computed vertex normals (1113 invalid vertices!)</span>"
      ]
     },
     "metadata": {},
     "output_type": "display_data"
    },
    {
     "data": {
      "text/html": [
       "<span style=\"font-family: monospace; color: #f55\">2024-05-27 18:56:54 WARN  wrk9  [Mesh] &quot;bunny.ply&quot;: computed vertex normals (1113 invalid vertices!)</span>"
      ]
     },
     "metadata": {},
     "output_type": "display_data"
    },
    {
     "data": {
      "text/html": [
       "<span style=\"font-family: monospace; color: #f55\">2024-05-27 18:56:58 WARN  main  [Mesh] &quot;bunny.ply&quot;: computed vertex normals (1113 invalid vertices!)</span>"
      ]
     },
     "metadata": {},
     "output_type": "display_data"
    },
    {
     "data": {
      "text/html": [
       "<span style=\"font-family: monospace; color: #f55\">2024-05-27 18:57:01 WARN  wrk9  [Mesh] &quot;bunny.ply&quot;: computed vertex normals (1113 invalid vertices!)</span>"
      ]
     },
     "metadata": {},
     "output_type": "display_data"
    },
    {
     "data": {
      "text/html": [
       "<span style=\"font-family: monospace; color: #f55\">2024-05-27 18:57:04 WARN  main  [Mesh] &quot;bunny.ply&quot;: computed vertex normals (1113 invalid vertices!)</span>"
      ]
     },
     "metadata": {},
     "output_type": "display_data"
    },
    {
     "data": {
      "text/html": [
       "<span style=\"font-family: monospace; color: #f55\">2024-05-27 18:57:08 WARN  main  [Mesh] &quot;bunny.ply&quot;: computed vertex normals (1113 invalid vertices!)</span>"
      ]
     },
     "metadata": {},
     "output_type": "display_data"
    },
    {
     "data": {
      "text/html": [
       "<span style=\"font-family: monospace; color: #f55\">2024-05-27 18:57:11 WARN  wrk6  [Mesh] &quot;bunny.ply&quot;: computed vertex normals (1113 invalid vertices!)</span>"
      ]
     },
     "metadata": {},
     "output_type": "display_data"
    },
    {
     "data": {
      "text/html": [
       "<span style=\"font-family: monospace; color: #f55\">2024-05-27 18:57:15 WARN  wrk10 [Mesh] &quot;bunny.ply&quot;: computed vertex normals (1113 invalid vertices!)</span>"
      ]
     },
     "metadata": {},
     "output_type": "display_data"
    },
    {
     "data": {
      "text/html": [
       "<span style=\"font-family: monospace; color: #f55\">2024-05-27 18:57:18 WARN  wrk5  [Mesh] &quot;bunny.ply&quot;: computed vertex normals (1113 invalid vertices!)</span>"
      ]
     },
     "metadata": {},
     "output_type": "display_data"
    },
    {
     "data": {
      "text/html": [
       "<span style=\"font-family: monospace; color: #f55\">2024-05-27 18:57:21 WARN  wrk9  [Mesh] &quot;bunny.ply&quot;: computed vertex normals (1113 invalid vertices!)</span>"
      ]
     },
     "metadata": {},
     "output_type": "display_data"
    }
   ],
   "source": [
    "mi.set_variant('scalar_spectral')\n",
    "import cgi, os\n",
    "files = os.listdir('graycode_pattern/')\n",
    "\n",
    "for f in files:\n",
    "    s = \"graycode_pattern/\"\n",
    "    s = s + f\n",
    "    scene1 = mi.load_dict({\n",
    "        'type':'scene',\n",
    "        'integrator': {'type': 'direct'},   \n",
    "        'light': {\n",
    "            'type': 'projector',\n",
    "            'irradiance': {\n",
    "                'type': 'bitmap',\n",
    "                'filename': s, \n",
    "            },\n",
    "            'fov': 60,\n",
    "            'to_world': mi.ScalarTransform4f.look_at(\n",
    "                origin=[-0.03, 0.1, -0.7],\n",
    "                target=[-0.03, -0.1, -15],\n",
    "                up=[0, 0, 1]\n",
    "            )\n",
    "        },\n",
    "        'tok': {\n",
    "            'type': 'ply',\n",
    "            'filename': tokki,\n",
    "            'to_world': mi.ScalarTransform4f.translate([0, 0, -1]),\n",
    "            # 'bsdf': {\n",
    "            #     'type': 'dielectric',\n",
    "            #     'int_ior': 1.5,\n",
    "            #     'ext_ior': 1.0,\n",
    "            # },\n",
    "            'bsdf': {\n",
    "                'type': 'diffuse',\n",
    "                'reflectance': {'type': 'rgb', 'value': [0.1, 0.2, 0.3]},\n",
    "            }\n",
    "        },\n",
    "        'wall': {\n",
    "            'type': 'rectangle',\n",
    "            'to_world': mi.ScalarTransform4f.translate([0, 0, -0.5]) @ mi.ScalarTransform4f.scale([5, 0.3, 5]),\n",
    "            'bsdf': {\n",
    "                'type': 'dielectric',\n",
    "                'int_ior': 1.5,  # 내부 굴절률\n",
    "                'ext_ior': 1.0   # 외부 굴절률\n",
    "            }\n",
    "        },\n",
    "        'back': {\n",
    "            'type': 'rectangle',\n",
    "            'to_world': mi.ScalarTransform4f.translate([0, 0, -2]) @ mi.ScalarTransform4f.scale([10, 1, 10]),\n",
    "            'bsdf': {\n",
    "                'type': 'diffuse',\n",
    "                'reflectance': {'type': 'rgb', 'value': [0.1, 0.2, 0.3]},\n",
    "            }\n",
    "        },\n",
    "        'polarizer': {\n",
    "            'type': 'rectangle',\n",
    "            'to_world': mi.ScalarTransform4f.translate([0, 0, -0.35]) @ mi.ScalarTransform4f.scale([0.5, 0.5, 1]),\n",
    "            'bsdf': {\n",
    "                'type': 'polarizer',\n",
    "                'theta': {\n",
    "                    'type': 'spectrum',\n",
    "                    'value': 90 # or 0\n",
    "                }\n",
    "            }\n",
    "        },\n",
    "        'sensor':  {\n",
    "            'type': 'perspective',\n",
    "            'to_world': mi.ScalarTransform4f.look_at(\n",
    "                origin=[0.03, 0, -0.7],  # increase the z-coordinate to move the camera farther away\n",
    "                target=[0.03, 1, -15],\n",
    "                up=[0, 0, 1]\n",
    "            ),\n",
    "            'fov': 45,\n",
    "            'film': {\n",
    "                'type': 'hdrfilm',\n",
    "                'width': 360,\n",
    "                'height': 360,\n",
    "                'rfilter': { 'type': 'gaussian' },\n",
    "                'sample_border': True\n",
    "            }\n",
    "        }\n",
    "    })\n",
    "    image = mi.render(scene=scene1, spp=128)\n",
    "    image = np.clip(image * 255, 0, 255).astype(np.uint8)\n",
    "    st = \"./no_no/result\" + f\n",
    "    imageio.imwrite(st, image)"
   ]
  },
  {
   "cell_type": "code",
   "execution_count": 51,
   "metadata": {},
   "outputs": [],
   "source": [
    "mi.set_variant('cuda_spectral_polarized')\n",
    "import cgi, os\n",
    "files = os.listdir('graycode_pattern/')\n",
    "output_dir = './no_yes/'\n",
    "mi.set_variant('scalar_spectral')\n",
    "if not os.path.exists(output_dir):\n",
    "    os.makedirs(output_dir)\n",
    "for f in files:\n",
    "    s = \"graycode_pattern/\"\n",
    "    s = s + f\n",
    "    scene1 = mi.load_dict({\n",
    "        'type':'scene',\n",
    "        'integrator': {\n",
    "             'type': 'stokes',\n",
    "            'integrator': {\n",
    "                'type': 'path'\n",
    "            }\n",
    "        },            \n",
    "        'light': {\n",
    "            'type': 'projector',\n",
    "            'irradiance': {\n",
    "                'type': 'bitmap',\n",
    "                'filename': s, \n",
    "            },\n",
    "            'fov': 60,\n",
    "            'to_world': mi.ScalarTransform4f.look_at(\n",
    "                origin=[-0.03, 0.1, -0.7],\n",
    "                target=[-0.03, -0.1, -15],\n",
    "                up=[0, 0, 1]\n",
    "            )\n",
    "        },\n",
    "        'tok': {\n",
    "            'type': 'ply',\n",
    "            'filename': tokki,\n",
    "            'to_world': mi.ScalarTransform4f.translate([0, 0, -1]),\n",
    "            # 'bsdf': {\n",
    "            #     'type': 'dielectric',\n",
    "            #     'int_ior': 1.5,\n",
    "            #     'ext_ior': 1.0,\n",
    "            # },\n",
    "            'bsdf': {\n",
    "                'type': 'diffuse',\n",
    "                'reflectance': {'type': 'rgb', 'value': [0.1, 0.2, 0.3]},\n",
    "            }\n",
    "        },\n",
    "        'wall': {\n",
    "            'type': 'rectangle',\n",
    "            'to_world': mi.ScalarTransform4f.translate([0, 0, -0.5]) @ mi.ScalarTransform4f.scale([5, 0.3, 5]),\n",
    "            'bsdf': {\n",
    "                'type': 'dielectric',\n",
    "                'int_ior': 1.5,  # 내부 굴절률\n",
    "                'ext_ior': 1.0   # 외부 굴절률\n",
    "            }\n",
    "        },\n",
    "        'back': {\n",
    "            'type': 'rectangle',\n",
    "            'to_world': mi.ScalarTransform4f.translate([0, 0, -2]) @ mi.ScalarTransform4f.scale([10, 1, 10]),\n",
    "            'bsdf': {\n",
    "                'type': 'diffuse',\n",
    "                'reflectance': {'type': 'rgb', 'value': [0.1, 0.2, 0.3]},\n",
    "            }\n",
    "        },\n",
    "        'polarizer': {\n",
    "            'type': 'rectangle',\n",
    "            'to_world': mi.ScalarTransform4f.translate([0, 0, -0.35]) @ mi.ScalarTransform4f.scale([0.5, 0.5, 1]),\n",
    "            'bsdf': {\n",
    "                'type': 'polarizer',\n",
    "                'theta': {\n",
    "                    'type': 'spectrum',\n",
    "                    'value': 90 # or 0\n",
    "                }\n",
    "            }\n",
    "        },\n",
    "        'sensor':  {\n",
    "            'type': 'perspective',\n",
    "            'to_world': mi.ScalarTransform4f.look_at(\n",
    "                origin=[0.03, 0, -0.7],  # increase the z-coordinate to move the camera farther away\n",
    "                target=[0.03, 1, -15],\n",
    "                up=[0, 0, 1]\n",
    "            ),\n",
    "            'fov': 45,\n",
    "            'film': {\n",
    "                'type': 'hdrfilm',\n",
    "                'width': 360,\n",
    "                'height': 360,\n",
    "                'rfilter': { 'type': 'gaussian' },\n",
    "                'sample_border': True\n",
    "            }\n",
    "        }\n",
    "    })\n",
    "    image = mi.render(scene=scene1, spp=128)\n",
    "    bitmap = mi.Bitmap(image, channel_names=['R', 'G', 'B'] + scene1.integrator().aov_names())\n",
    "    channels = dict(bitmap.split())\n",
    "    for channel_name in ['S0', 'S1', 'S2', 'S3']:\n",
    "        if channel_name in channels:\n",
    "            channel_image = channels[channel_name].convert(srgb_gamma=True)\n",
    "            channel_array = np.array(channel_image)\n",
    "\n",
    "            # Normalize the channel data to 0-255 and convert to uint8\n",
    "            norm_channel_array = cv2.normalize(channel_array, None, 0, 255, cv2.NORM_MINMAX)\n",
    "            norm_channel_array = norm_channel_array.astype(np.uint8)\n",
    "\n",
    "            # Save the image with the specific filename format\n",
    "            if channel_name == 'S0':\n",
    "                filename = os.path.join(output_dir, f\"result0_{f}\")\n",
    "            elif channel_name == 'S1':\n",
    "                filename = os.path.join(output_dir, f\"result1_{f}\")\n",
    "            elif channel_name == 'S2':\n",
    "                filename = os.path.join(output_dir, f\"result2_{f}\")\n",
    "            elif channel_name == 'S3':\n",
    "                filename = os.path.join(output_dir, f\"result3_{f}\")\n",
    "            \n",
    "            cv2.imwrite(filename, norm_channel_array)\n",
    "            print(f\"Saved {channel_name} as {filename}\")"
   ]
  }
 ],
 "metadata": {
  "kernelspec": {
   "display_name": "main",
   "language": "python",
   "name": "python3"
  },
  "language_info": {
   "codemirror_mode": {
    "name": "ipython",
    "version": 3
   },
   "file_extension": ".py",
   "mimetype": "text/x-python",
   "name": "python",
   "nbconvert_exporter": "python",
   "pygments_lexer": "ipython3",
   "version": "3.11.8"
  },
  "orig_nbformat": 4
 },
 "nbformat": 4,
 "nbformat_minor": 2
}
